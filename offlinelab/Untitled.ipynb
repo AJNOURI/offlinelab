{
 "cells": [
  {
   "cell_type": "code",
   "execution_count": 25,
   "metadata": {
    "collapsed": false
   },
   "outputs": [
    {
     "name": "stdout",
     "output_type": "stream",
     "text": [
      "IOU4\n",
      "ip: 192.168.0.204\n",
      "login: admin\n",
      "password: cisco\n",
      "enablepassword: cisco\n",
      "sleep: 0\n",
      "IOU3\n",
      "ip: 192.168.0.203\n",
      "login: admin\n",
      "password: cisco\n",
      "enablepassword: cisco\n",
      "sleep: 0\n"
     ]
    }
   ],
   "source": [
    "import yaml\n",
    "stream = open('init.yaml')\n",
    "rdata = yaml.load(stream)\n",
    "#print rdata\n",
    "for key, value in rdata.iteritems():\n",
    "                    cmdlist = []\n",
    "                    print key.strip('\\r\\n')\n",
    "                    print 'ip: ' + value[0]['ip']\n",
    "                    print 'login: ' + value[1]['login']\n",
    "                    print 'password: ' + value[2]['password']\n",
    "                    print 'enablepassword: ' + value[3]['enablepassword']\n",
    "                    print 'sleep: ' + str(value[4]['sleep'])"
   ]
  }
 ],
 "metadata": {
  "kernelspec": {
   "display_name": "Python 2",
   "language": "python",
   "name": "python2"
  },
  "language_info": {
   "codemirror_mode": {
    "name": "ipython",
    "version": 2
   },
   "file_extension": ".py",
   "mimetype": "text/x-python",
   "name": "python",
   "nbconvert_exporter": "python",
   "pygments_lexer": "ipython2",
   "version": "2.7.6"
  }
 },
 "nbformat": 4,
 "nbformat_minor": 0
}
